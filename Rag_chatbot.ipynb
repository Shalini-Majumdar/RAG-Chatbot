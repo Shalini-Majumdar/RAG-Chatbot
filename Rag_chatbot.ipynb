{
 "cells": [
  {
   "cell_type": "code",
   "execution_count": 19,
   "id": "7540bb95-5058-49e7-961a-66032946d8c9",
   "metadata": {},
   "outputs": [
    {
     "data": {
      "application/vnd.jupyter.widget-view+json": {
       "model_id": "1ba34de0a4d14915ab3aca2936705510",
       "version_major": 2,
       "version_minor": 0
      },
      "text/plain": [
       "tokenizer_config.json:   0%|          | 0.00/2.54k [00:00<?, ?B/s]"
      ]
     },
     "metadata": {},
     "output_type": "display_data"
    },
    {
     "name": "stderr",
     "output_type": "stream",
     "text": [
      "c:\\users\\shalini\\jn\\rag chatbot\\rag_venv\\lib\\site-packages\\huggingface_hub\\file_download.py:143: UserWarning: `huggingface_hub` cache-system uses symlinks by default to efficiently store duplicated files but your machine does not support them in C:\\Users\\Shalini\\.cache\\huggingface\\hub\\models--google--flan-t5-large. Caching files will still work but in a degraded version that might require more space on your disk. This warning can be disabled by setting the `HF_HUB_DISABLE_SYMLINKS_WARNING` environment variable. For more details, see https://huggingface.co/docs/huggingface_hub/how-to-cache#limitations.\n",
      "To support symlinks on Windows, you either need to activate Developer Mode or to run Python as an administrator. In order to activate developer mode, see this article: https://docs.microsoft.com/en-us/windows/apps/get-started/enable-your-device-for-development\n",
      "  warnings.warn(message)\n",
      "Xet Storage is enabled for this repo, but the 'hf_xet' package is not installed. Falling back to regular HTTP download. For better performance, install the package with: `pip install huggingface_hub[hf_xet]` or `pip install hf_xet`\n"
     ]
    },
    {
     "data": {
      "application/vnd.jupyter.widget-view+json": {
       "model_id": "582fe77c4faa44f394b2cfb056e67547",
       "version_major": 2,
       "version_minor": 0
      },
      "text/plain": [
       "spiece.model:   0%|          | 0.00/792k [00:00<?, ?B/s]"
      ]
     },
     "metadata": {},
     "output_type": "display_data"
    },
    {
     "data": {
      "application/vnd.jupyter.widget-view+json": {
       "model_id": "a41ac26af3a44989b26cb81faed57d8f",
       "version_major": 2,
       "version_minor": 0
      },
      "text/plain": [
       "tokenizer.json:   0%|          | 0.00/2.42M [00:00<?, ?B/s]"
      ]
     },
     "metadata": {},
     "output_type": "display_data"
    },
    {
     "data": {
      "application/vnd.jupyter.widget-view+json": {
       "model_id": "e4dedcdfc2324364934df7d247eade4e",
       "version_major": 2,
       "version_minor": 0
      },
      "text/plain": [
       "special_tokens_map.json:   0%|          | 0.00/2.20k [00:00<?, ?B/s]"
      ]
     },
     "metadata": {},
     "output_type": "display_data"
    },
    {
     "data": {
      "application/vnd.jupyter.widget-view+json": {
       "model_id": "7fe5f348483a4503b762f122e1cbd6ae",
       "version_major": 2,
       "version_minor": 0
      },
      "text/plain": [
       "config.json:   0%|          | 0.00/662 [00:00<?, ?B/s]"
      ]
     },
     "metadata": {},
     "output_type": "display_data"
    },
    {
     "name": "stderr",
     "output_type": "stream",
     "text": [
      "Xet Storage is enabled for this repo, but the 'hf_xet' package is not installed. Falling back to regular HTTP download. For better performance, install the package with: `pip install huggingface_hub[hf_xet]` or `pip install hf_xet`\n"
     ]
    },
    {
     "data": {
      "application/vnd.jupyter.widget-view+json": {
       "model_id": "b0abef1c914f4b929e270defd61a5a9a",
       "version_major": 2,
       "version_minor": 0
      },
      "text/plain": [
       "model.safetensors:   0%|          | 0.00/3.13G [00:00<?, ?B/s]"
      ]
     },
     "metadata": {},
     "output_type": "display_data"
    },
    {
     "data": {
      "application/vnd.jupyter.widget-view+json": {
       "model_id": "0508294576e54769943e810687b8259c",
       "version_major": 2,
       "version_minor": 0
      },
      "text/plain": [
       "generation_config.json:   0%|          | 0.00/147 [00:00<?, ?B/s]"
      ]
     },
     "metadata": {},
     "output_type": "display_data"
    },
    {
     "name": "stderr",
     "output_type": "stream",
     "text": [
      "Device set to use cpu\n",
      "The following generation flags are not valid and may be ignored: ['temperature']. Set `TRANSFORMERS_VERBOSITY=info` for more details.\n",
      "C:\\Users\\Shalini\\AppData\\Local\\Temp\\ipykernel_13884\\1898988990.py:20: LangChainDeprecationWarning: The class `HuggingFacePipeline` was deprecated in LangChain 0.0.37 and will be removed in 1.0. An updated version of the class exists in the :class:`~langchain-huggingface package and should be used instead. To use it run `pip install -U :class:`~langchain-huggingface` and import as `from :class:`~langchain_huggingface import HuggingFacePipeline``.\n",
      "  llm = HuggingFacePipeline(pipeline=pipe)\n"
     ]
    }
   ],
   "source": [
    "from transformers import AutoTokenizer, AutoModelForSeq2SeqLM, pipeline\n",
    "from langchain_community.llms import HuggingFacePipeline\n",
    "\n",
    "# Load tokenizer and model (this runs locally)\n",
    "model_name = \"google/flan-t5-large\"  # or \"google/flan-t5-xl\" if you have RAM\n",
    "\n",
    "tokenizer = AutoTokenizer.from_pretrained(model_name)\n",
    "model = AutoModelForSeq2SeqLM.from_pretrained(model_name)\n",
    "\n",
    "# Create HF pipeline\n",
    "pipe = pipeline(\n",
    "    \"text2text-generation\",\n",
    "    model=model,\n",
    "    tokenizer=tokenizer,\n",
    "    max_new_tokens=512,\n",
    "    temperature=0.7\n",
    ")\n",
    "\n",
    "# Wrap in LangChain\n",
    "llm = HuggingFacePipeline(pipeline=pipe)"
   ]
  },
  {
   "cell_type": "code",
   "execution_count": 23,
   "id": "830d3895-e7c3-46ca-90f4-905b0e56a2fe",
   "metadata": {},
   "outputs": [
    {
     "name": "stderr",
     "output_type": "stream",
     "text": [
      "The following generation flags are not valid and may be ignored: ['temperature']. Set `TRANSFORMERS_VERBOSITY=info` for more details.\n"
     ]
    },
    {
     "name": "stdout",
     "output_type": "stream",
     "text": [
      "anarcho-syndicalism\n"
     ]
    }
   ],
   "source": [
    "print(llm.invoke(\"What is anarchism?\"))"
   ]
  },
  {
   "cell_type": "code",
   "execution_count": 6,
   "id": "45adac80-76eb-4741-92a7-52c1e30b2078",
   "metadata": {},
   "outputs": [
    {
     "data": {
      "application/vnd.jupyter.widget-view+json": {
       "model_id": "9991e18ec4b64fa2936412c617f8ba58",
       "version_major": 2,
       "version_minor": 0
      },
      "text/plain": [
       "Resolving data files:   0%|          | 0/26 [00:00<?, ?it/s]"
      ]
     },
     "metadata": {},
     "output_type": "display_data"
    },
    {
     "data": {
      "application/vnd.jupyter.widget-view+json": {
       "model_id": "8f192b5b97fb48b08330e45a691fdc6c",
       "version_major": 2,
       "version_minor": 0
      },
      "text/plain": [
       "Resolving data files:   0%|          | 0/53 [00:00<?, ?it/s]"
      ]
     },
     "metadata": {},
     "output_type": "display_data"
    }
   ],
   "source": [
    "from datasets import load_dataset\n",
    "from itertools import islice\n",
    "\n",
    "# Load streaming dataset without slicing\n",
    "dataset_streaming = load_dataset(\n",
    "    \"wiki_snippets\",\n",
    "    name=\"wikipedia_en_100_0\",\n",
    "    split=\"train\",\n",
    "    streaming=True\n",
    ")\n",
    "\n",
    "# Manually take the first 500 records\n",
    "dataset = list(islice(dataset_streaming, 500))"
   ]
  },
  {
   "cell_type": "code",
   "execution_count": 7,
   "id": "81fb967c-39a7-4e9b-b172-9dce785f38bf",
   "metadata": {},
   "outputs": [
    {
     "name": "stdout",
     "output_type": "stream",
     "text": [
      "{'_id': '{\"datasets_id\": 0, \"wiki_id\": \"Anarchism\", \"sp\": 0, \"sc\": 0, \"ep\": 2, \"ec\": 129}', 'datasets_id': 0, 'wiki_id': 'Anarchism', 'start_paragraph': 0, 'start_character': 0, 'end_paragraph': 2, 'end_character': 129, 'article_title': 'Anarchism', 'section_title': 'Start', 'passage_text': 'Anarchism is a political philosophy and movement that is sceptical of authority and rejects all involuntary, coercive forms of hierarchy. Anarchism calls for the abolition of the state, which it holds to be unnecessary, undesirable, and harmful. As a historically left-wing movement, placed on the farthest left of the political spectrum, it is usually described alongside communalism and libertarian Marxism as the libertarian wing (libertarian socialism) of the socialist movement, and has a strong historical association with anti-capitalism and socialism.  Humans lived in societies without formal hierarchies long before the establishment of formal states, realms, or empires. With the'}\n",
      "dict_keys(['_id', 'datasets_id', 'wiki_id', 'start_paragraph', 'start_character', 'end_paragraph', 'end_character', 'article_title', 'section_title', 'passage_text'])\n"
     ]
    }
   ],
   "source": [
    "sample = next(iter(dataset))\n",
    "print(sample)\n",
    "print(sample.keys())"
   ]
  },
  {
   "cell_type": "code",
   "execution_count": 8,
   "id": "fbb61764-648d-4675-ade1-2ddbbf075375",
   "metadata": {},
   "outputs": [],
   "source": [
    "from langchain.docstore.document import Document\n",
    "\n",
    "documents = []\n",
    "\n",
    "for row in dataset:\n",
    "    row_dict = dict(row)\n",
    "    content = row_dict.get(\"passage_text\", \"\")\n",
    "    title = row_dict.get(\"article_title\", \"unknown\")\n",
    "    section = row_dict.get(\"section_title\", \"unknown\")\n",
    "\n",
    "    if content:  # only keep non-empty content\n",
    "        documents.append(\n",
    "            Document(\n",
    "                page_content=content,\n",
    "                metadata={\"title\": title, \"section\": section}\n",
    "            )\n",
    "        )"
   ]
  },
  {
   "cell_type": "code",
   "execution_count": 9,
   "id": "931c804b-34b6-4368-adc9-62cd67aaa106",
   "metadata": {},
   "outputs": [],
   "source": [
    "from langchain.text_splitter import CharacterTextSplitter\n",
    "\n",
    "splitter = CharacterTextSplitter(chunk_size=500, chunk_overlap=50)\n",
    "docs = splitter.split_documents(documents)"
   ]
  },
  {
   "cell_type": "code",
   "execution_count": 10,
   "id": "fb2c0631-a811-41a2-ac5c-c7a19b92453d",
   "metadata": {},
   "outputs": [
    {
     "name": "stdout",
     "output_type": "stream",
     "text": [
      "Number of chunks created: 500\n",
      "page_content='Anarchism is a political philosophy and movement that is sceptical of authority and rejects all involuntary, coercive forms of hierarchy. Anarchism calls for the abolition of the state, which it holds to be unnecessary, undesirable, and harmful. As a historically left-wing movement, placed on the farthest left of the political spectrum, it is usually described alongside communalism and libertarian Marxism as the libertarian wing (libertarian socialism) of the socialist movement, and has a strong historical association with anti-capitalism and socialism.  Humans lived in societies without formal hierarchies long before the establishment of formal states, realms, or empires. With the' metadata={'title': 'Anarchism', 'section': 'Start'}\n"
     ]
    }
   ],
   "source": [
    "print(f\"Number of chunks created: {len(docs)}\")\n",
    "print(docs[0])"
   ]
  },
  {
   "cell_type": "code",
   "execution_count": 11,
   "id": "10213ab0-5dda-4f34-886c-36ce9b1344eb",
   "metadata": {},
   "outputs": [],
   "source": [
    "from langchain_community.embeddings import SentenceTransformerEmbeddings\n",
    "from langchain.vectorstores import FAISS\n",
    "\n",
    "# Embedding model\n",
    "embedding = SentenceTransformerEmbeddings(model_name=\"all-MiniLM-L6-v2\")\n",
    "\n",
    "# Build FAISS vector store from chunks\n",
    "vectorstore = FAISS.from_documents(docs, embedding)"
   ]
  },
  {
   "cell_type": "code",
   "execution_count": 12,
   "id": "cf05ca79-5676-44bc-89a8-8756f05c00bf",
   "metadata": {},
   "outputs": [],
   "source": [
    "retriever = vectorstore.as_retriever()"
   ]
  },
  {
   "cell_type": "code",
   "execution_count": 32,
   "id": "5e4caf70-c5bd-43ff-b018-2a7ad832e6c6",
   "metadata": {},
   "outputs": [],
   "source": [
    "vectorstore.save_local(\"faiss_index\")"
   ]
  },
  {
   "cell_type": "code",
   "execution_count": 35,
   "id": "74997077-b730-45dd-bb50-0d35869ae715",
   "metadata": {},
   "outputs": [],
   "source": [
    "vectorstore = FAISS.load_local(\n",
    "    \"faiss_index\",\n",
    "    embedding,\n",
    "    allow_dangerous_deserialization=True\n",
    ")"
   ]
  },
  {
   "cell_type": "code",
   "execution_count": 24,
   "id": "85d854a3-d723-4e42-8527-671635799d4f",
   "metadata": {},
   "outputs": [],
   "source": [
    "from langchain.chains import RetrievalQA\n",
    "\n",
    "# Create the RAG pipeline (retriever + flan-t5-xl)\n",
    "qa_chain = RetrievalQA.from_chain_type(\n",
    "    llm=llm,\n",
    "    retriever=retriever,\n",
    "    return_source_documents=True\n",
    ")"
   ]
  },
  {
   "cell_type": "code",
   "execution_count": 27,
   "id": "8b10a765-56a9-46e8-8681-b8ecc2be7bdd",
   "metadata": {},
   "outputs": [],
   "source": [
    "def ask_question(question):\n",
    "    \"\"\"\n",
    "    Pass a question through the RAG pipeline and return the answer.\n",
    "    \"\"\"\n",
    "    result = qa_chain.invoke({\"query\": question})\n",
    "    \n",
    "    print(f\"Question: {question}\")\n",
    "    print(f\"Answer: {result['result']}\")\n",
    "    \n",
    "    # Optionally print where the answer was retrieved from\n",
    "    print(\"\\nSource documents:\")\n",
    "    for doc in result['source_documents']:\n",
    "        print(f\"- Title: {doc.metadata['title']}, Section: {doc.metadata['section']}\")\n",
    "        print(f\"  Chunk: {doc.page_content[:200]}...\\n\")\n",
    "    \n",
    "    return result"
   ]
  },
  {
   "cell_type": "code",
   "execution_count": 28,
   "id": "02da27a6-bf6f-41e2-93da-97a12880c315",
   "metadata": {},
   "outputs": [
    {
     "name": "stderr",
     "output_type": "stream",
     "text": [
      "The following generation flags are not valid and may be ignored: ['temperature']. Set `TRANSFORMERS_VERBOSITY=info` for more details.\n",
      "The following generation flags are not valid and may be ignored: ['temperature']. Set `TRANSFORMERS_VERBOSITY=info` for more details.\n"
     ]
    },
    {
     "name": "stdout",
     "output_type": "stream",
     "text": [
      "Question: What are the key principles of anarchism?\n",
      "Answer: There is no consensus on which principles are core and commentators describe multiple anarchisms, rather than a singular anarchism, in which common principles are shared between schools of anarchism while each group prioritizes those principles differently.\n",
      "\n",
      "Source documents:\n",
      "- Title: Anarchism, Section: Start\n",
      "  Chunk: Anarchism is a political philosophy and movement that is sceptical of authority and rejects all involuntary, coercive forms of hierarchy. Anarchism calls for the abolition of the state, which it holds...\n",
      "\n",
      "- Title: Anarchism, Section: Anarchism by country\n",
      "  Chunk: Anarchism by country  Governance without government  List of anarchist political ideologies  List of books about anarchism...\n",
      "\n",
      "- Title: Anarchism, Section: Modern era\n",
      "  Chunk: exist today, making it difficult to describe the contemporary anarchist movement. While theorists and activists have established \"relatively stable constellations of anarchist principles\", there is no...\n",
      "\n",
      "- Title: Anarchism, Section: Evolutionary tactics\n",
      "  Chunk: schools of thought; disagreement over questions of values, ideology, and tactics is common. Its diversity has led to widely different uses of identical terms among different anarchist traditions which...\n",
      "\n"
     ]
    },
    {
     "name": "stderr",
     "output_type": "stream",
     "text": [
      "The following generation flags are not valid and may be ignored: ['temperature']. Set `TRANSFORMERS_VERBOSITY=info` for more details.\n"
     ]
    },
    {
     "name": "stdout",
     "output_type": "stream",
     "text": [
      "Question: Explain Abraham Lincoln's views on Native American policy using historical examples.\n",
      "Answer: During his presidency, Lincoln's policy toward Indians was driven by politics. He used the Indian Bureau as a source of patronage, making appointments to his loyal followers in Minnesota and Wisconsin. He he focused on the moral basis of republicanism.\n",
      "\n",
      "Source documents:\n",
      "- Title: Abraham Lincoln, Section: Republican values\n",
      "  Chunk: of republican values has been stressed by historians such as John Patrick Diggins, Harry V. Jaffa, Vernon Burton, Eric Foner, and Herman J. Belz. Lincoln called the Declaration of Independence—which e...\n",
      "\n",
      "- Title: Abraham Lincoln, Section: General McClellan & Native American policy\n",
      "  Chunk: Eric Foner argues that:  Native American policy Lincoln's experience with Indians followed the death of his grandfather Abraham by Indian assailants, in the presence of his father and uncles. Lincoln ...\n",
      "\n",
      "- Title: Abraham Lincoln, Section: Republican values\n",
      "  Chunk: he focused on the moral basis of republicanism.  His position on war was founded on a legal argument regarding the Constitution as essentially a contract among the states, and all parties must agree t...\n",
      "\n",
      "- Title: Abraham Lincoln, Section: Political views\n",
      "  Chunk: slavery which he repeated en route to the presidency. He said the Kansas Act had a \"declared indifference, but as I must think, a covert real zeal for the spread of slavery. I cannot but hate it. I ha...\n",
      "\n",
      "Question: What is the purpose of the United Nations?\n",
      "Answer: unanswerable\n",
      "\n",
      "Source documents:\n",
      "- Title: Anarchism, Section: Evolutionary tactics\n",
      "  Chunk: without taking part in the discussion themselves or promoting a specific point. Minorities usually accept rough consensus, except when they feel the proposal contradicts anarchist ethics, goals and va...\n",
      "\n",
      "- Title: Anarchism, Section: Modern era\n",
      "  Chunk: anarchism began to take form at this time and influenced anarchism's move from a Eurocentric demographic. This coincided with its failure to gain traction in Northern Europe and its unprecedented heig...\n",
      "\n",
      "- Title: Anarchism, Section: Analysis\n",
      "  Chunk: at protests, but in the world of ethics as well. Secondly, anarchism is evaluated as unfeasible or utopian since the state cannot be defeated practically. This line of arguments most often calls for p...\n",
      "\n",
      "- Title: Anarchism, Section: Modern era\n",
      "  Chunk: Other organisational tactics pioneered in this time include affinity groups, security culture and the use of decentralised technologies such as the Internet. A significant event of this period was the...\n",
      "\n"
     ]
    },
    {
     "data": {
      "text/plain": [
       "{'query': 'What is the purpose of the United Nations?',\n",
       " 'result': 'unanswerable',\n",
       " 'source_documents': [Document(id='09c53873-e9dc-4de8-b646-95735f82c3d8', metadata={'title': 'Anarchism', 'section': 'Evolutionary tactics'}, page_content='without taking part in the discussion themselves or promoting a specific point. Minorities usually accept rough consensus, except when they feel the proposal contradicts anarchist ethics, goals and values. Anarchists usually form small groups (5–20 individuals) to enhance autonomy and friendships among their members. These kinds of groups more often than not interconnect with each other, forming larger networks. Anarchists still support and participate in strikes, especially wildcat strikes as these are leaderless strikes not organised centrally by a syndicate.  As in the past, newspapers and journals are used, and anarchists have gone online in the World Wide Web'),\n",
       "  Document(id='287037cd-d051-4759-aa1c-7b1962f178a5', metadata={'title': 'Anarchism', 'section': 'Modern era'}, page_content=\"anarchism began to take form at this time and influenced anarchism's move from a Eurocentric demographic. This coincided with its failure to gain traction in Northern Europe and its unprecedented height in Latin America.  Around the turn of the 21st century, anarchism grew in popularity and influence within anti-capitalist, anti-war and anti-globalisation movements. Anarchists became known for their involvement in protests against the World Trade Organization (WTO), the Group of Eight and the World Economic Forum. During the protests, ad hoc leaderless anonymous cadres known as black blocs engaged in rioting, property destruction and violent confrontations with the police.\"),\n",
       "  Document(id='39441c39-6001-4fc3-b3c7-33f413f02b5d', metadata={'title': 'Anarchism', 'section': 'Analysis'}, page_content='at protests, but in the world of ethics as well. Secondly, anarchism is evaluated as unfeasible or utopian since the state cannot be defeated practically. This line of arguments most often calls for political action within the system to reform it. The third argument is that anarchism is self-contradictory. While it advocates for no-one to archiei, if accepted by the many, then anarchism would turn into the ruling political theory. In this line of criticism also comes the self-contradiction that anarchism calls for collective action whilst endorsing the autonomy of the individual, hence no collective action can be taken. Lastly,'),\n",
       "  Document(id='4b0fdcb9-2a02-4f64-b1a8-3fa08b25db2d', metadata={'title': 'Anarchism', 'section': 'Modern era'}, page_content='Other organisational tactics pioneered in this time include affinity groups, security culture and the use of decentralised technologies such as the Internet. A significant event of this period was the confrontations at the 1999 Seattle WTO conference. Anarchist ideas have been influential in the development of the Zapatistas in Mexico and the Democratic Federation of Northern Syria, more commonly known as Rojava, a de facto autonomous region in northern Syria.  Thought   Anarchist schools of thought have been generally grouped into two main historical traditions, social anarchism and individualist anarchism, owing to their different origins, values and evolution.')]}"
      ]
     },
     "execution_count": 28,
     "metadata": {},
     "output_type": "execute_result"
    }
   ],
   "source": [
    "ask_question(\"What are the key principles of anarchism?\")\n",
    "ask_question(\"Explain Abraham Lincoln's views on Native American policy using historical examples.\")\n",
    "ask_question(\"What is the purpose of the United Nations?\")"
   ]
  },
  {
   "cell_type": "code",
   "execution_count": 31,
   "id": "55cd9d91-3c6c-4322-8bf9-04883af63f6b",
   "metadata": {},
   "outputs": [
    {
     "name": "stderr",
     "output_type": "stream",
     "text": [
      "The following generation flags are not valid and may be ignored: ['temperature']. Set `TRANSFORMERS_VERBOSITY=info` for more details.\n"
     ]
    },
    {
     "name": "stdout",
     "output_type": "stream",
     "text": [
      "Question: What is anarchism?\n",
      "Answer: political philosophy and movement that is sceptical of authority and rejects all involuntary, coercive forms of hierarchy\n",
      "\n",
      "Source documents:\n",
      "- Title: Anarchism, Section: Start\n",
      "  Chunk: Anarchism is a political philosophy and movement that is sceptical of authority and rejects all involuntary, coercive forms of hierarchy. Anarchism calls for the abolition of the state, which it holds...\n",
      "\n",
      "- Title: Anarchism, Section: Start\n",
      "  Chunk: contrasted to socialist forms which are state-oriented or from above. Scholars of anarchism generally highlight anarchism's socialist credentials and criticise attempts at creating dichotomies between...\n",
      "\n",
      "- Title: Anarchism, Section: Start\n",
      "  Chunk: human society. Criticism of anarchism include claims that it is internally inconsistent, violent, or utopian.  Etymology, terminology, and definition   The etymological origin of anarchism is from the...\n",
      "\n",
      "- Title: Anarchism, Section: Evolutionary tactics\n",
      "  Chunk: schools of thought; disagreement over questions of values, ideology, and tactics is common. Its diversity has led to widely different uses of identical terms among different anarchist traditions which...\n",
      "\n"
     ]
    },
    {
     "name": "stderr",
     "output_type": "stream",
     "text": [
      "The following generation flags are not valid and may be ignored: ['temperature']. Set `TRANSFORMERS_VERBOSITY=info` for more details.\n",
      "The following generation flags are not valid and may be ignored: ['temperature']. Set `TRANSFORMERS_VERBOSITY=info` for more details.\n"
     ]
    },
    {
     "name": "stdout",
     "output_type": "stream",
     "text": [
      "Question: What are the criticisms of anarchism?\n",
      "Answer: Major definitional Marxist Criticism that \"anarchism cannot win\", believing that it lacks the ability to properly implement its ideas\n",
      "\n",
      "Source documents:\n",
      "- Title: Anarchism, Section: Start\n",
      "  Chunk: Anarchism is a political philosophy and movement that is sceptical of authority and rejects all involuntary, coercive forms of hierarchy. Anarchism calls for the abolition of the state, which it holds...\n",
      "\n",
      "- Title: Anarchism, Section: Start\n",
      "  Chunk: contrasted to socialist forms which are state-oriented or from above. Scholars of anarchism generally highlight anarchism's socialist credentials and criticise attempts at creating dichotomies between...\n",
      "\n",
      "- Title: Anarchism, Section: Analysis & Anarchism by country\n",
      "  Chunk: Marxist Criticism that \"anarchism cannot win\", believing that it lacks the ability to properly implement its ideas. The Marxist criticism of anarchism is that it has a utopian character because all in...\n",
      "\n",
      "- Title: Anarchism, Section: Evolutionary tactics\n",
      "  Chunk: schools of thought; disagreement over questions of values, ideology, and tactics is common. Its diversity has led to widely different uses of identical terms among different anarchist traditions which...\n",
      "\n",
      "Question: What was Abraham Lincoln’s Native American policy?\n",
      "Answer: He used the Indian Bureau as a source of patronage\n",
      "\n",
      "Source documents:\n",
      "- Title: Abraham Lincoln, Section: General McClellan & Native American policy\n",
      "  Chunk: Eric Foner argues that:  Native American policy Lincoln's experience with Indians followed the death of his grandfather Abraham by Indian assailants, in the presence of his father and uncles. Lincoln ...\n",
      "\n",
      "- Title: Abraham Lincoln, Section: Republican values\n",
      "  Chunk: of republican values has been stressed by historians such as John Patrick Diggins, Harry V. Jaffa, Vernon Burton, Eric Foner, and Herman J. Belz. Lincoln called the Declaration of Independence—which e...\n",
      "\n",
      "- Title: Abraham Lincoln, Section: Republican values\n",
      "  Chunk: he focused on the moral basis of republicanism.  His position on war was founded on a legal argument regarding the Constitution as essentially a contract among the states, and all parties must agree t...\n",
      "\n",
      "- Title: Abraham Lincoln, Section: Political views\n",
      "  Chunk: slavery which he repeated en route to the presidency. He said the Kansas Act had a \"declared indifference, but as I must think, a covert real zeal for the spread of slavery. I cannot but hate it. I ha...\n",
      "\n"
     ]
    },
    {
     "name": "stderr",
     "output_type": "stream",
     "text": [
      "The following generation flags are not valid and may be ignored: ['temperature']. Set `TRANSFORMERS_VERBOSITY=info` for more details.\n",
      "The following generation flags are not valid and may be ignored: ['temperature']. Set `TRANSFORMERS_VERBOSITY=info` for more details.\n"
     ]
    },
    {
     "name": "stdout",
     "output_type": "stream",
     "text": [
      "Question: What are the natural wonders in Alabama?\n",
      "Answer: Horseshoe Bend National Military Park near Alexander City; Little River Canyon National Preserve near Fort Payne; Russell Cave National Monument in Bridgeport; Tuskegee Airmen National Historic Site in Tuskegee; and Tuskegee Institute National Historic Site near Tuskegee\n",
      "\n",
      "Source documents:\n",
      "- Title: Alabama, Section: Etymology\n",
      "  Chunk: Ridge-and-Valley Appalachians of the north to the Piedmont, Canebrake, and Black Belt of the central region to the Gulf Coastal Plain and beaches along the Gulf of Mexico in the south. The state is us...\n",
      "\n",
      "- Title: Alabama, Section: Etymology\n",
      "  Chunk: Alabama's land consists of  of forest or 67% of the state's total land area. Suburban Baldwin County, along the Gulf Coast, is the largest county in the state in both land area and water area.  Areas ...\n",
      "\n",
      "- Title: Alabama, Section: Industry\n",
      "  Chunk: is home to various attractions, natural features, parks and events that attract visitors from around the globe, notably the annual Hangout Music Festival, held on the public beaches of Gulf Shores; th...\n",
      "\n",
      "- Title: Alabama, Section: Start\n",
      "  Chunk: Alabama () is a state in the Southeastern region of the United States, bordered by Tennessee to the north; Georgia to the east; Florida and the Gulf of Mexico to the south; and Mississippi to the west...\n",
      "\n"
     ]
    },
    {
     "name": "stderr",
     "output_type": "stream",
     "text": [
      "The following generation flags are not valid and may be ignored: ['temperature']. Set `TRANSFORMERS_VERBOSITY=info` for more details.\n"
     ]
    },
    {
     "name": "stdout",
     "output_type": "stream",
     "text": [
      "Question: Who discovered black holes?\n",
      "Answer: unanswerable\n",
      "\n",
      "Source documents:\n",
      "- Title: Alabama, Section: Etymology\n",
      "  Chunk: the Wetumpka crater, the site of \"Alabama's greatest natural disaster\". A -wide meteorite hit the area about 80 million years ago. The hills just east of downtown Wetumpka showcase the eroded remains ...\n",
      "\n",
      "- Title: Abraham Lincoln, Section: General McClellan & Native American policy\n",
      "  Chunk: Eric Foner argues that:  Native American policy Lincoln's experience with Indians followed the death of his grandfather Abraham by Indian assailants, in the presence of his father and uncles. Lincoln ...\n",
      "\n",
      "- Title: Alabama, Section: Etymology\n",
      "  Chunk: contains the Natchez Trace Parkway, the Selma To Montgomery National Historic Trail, and the Trail of Tears National Historic Trail.  Notable natural wonders include: the \"Natural Bridge\" rock, the lo...\n",
      "\n",
      "- Title: Alabama, Section: Etymology\n",
      "  Chunk: Phil Campbell, home to two waterfalls, six natural bridges and allegedly served as a hideout for legendary outlaw Jesse James; Stephens Gap Cave in Jackson County boasts a 143-foot pit, two waterfalls...\n",
      "\n"
     ]
    },
    {
     "name": "stderr",
     "output_type": "stream",
     "text": [
      "The following generation flags are not valid and may be ignored: ['temperature']. Set `TRANSFORMERS_VERBOSITY=info` for more details.\n"
     ]
    },
    {
     "name": "stdout",
     "output_type": "stream",
     "text": [
      "Question: How has anarchism evolved in the modern era?\n",
      "Answer: During the French Revolution, partisan groups such as the Enragés and the saw a turning point in the fermentation of anti-state and federalist sentiments\n",
      "\n",
      "Source documents:\n",
      "- Title: Anarchism, Section: Start\n",
      "  Chunk: Anarchism is a political philosophy and movement that is sceptical of authority and rejects all involuntary, coercive forms of hierarchy. Anarchism calls for the abolition of the state, which it holds...\n",
      "\n",
      "- Title: Anarchism, Section: Before the establishment of towns and cities, an established authority did not exist. It was after the creation of institutions of authority that anarchistic ideas espoused as a reaction. The most notable precursors to anarchism in the ancient world were in China and Greece. In China, philosophical anarchism (the discussion on the legitimacy of the state) was delineated by Taoist philosophers Zhuang Zhou and Laozi. Alongside Stoicism, Taoism has been said to have had \"significant anticipations\" of anarchism.\n",
      "  Chunk: elements include the will for a non-coercive society, the rejection of the state apparatus, the belief that human nature allows humans to exist in or progress toward such a non-coercive society, and a...\n",
      "\n",
      "- Title: Anarchism, Section: Before the establishment of towns and cities, an established authority did not exist. It was after the creation of institutions of authority that anarchistic ideas espoused as a reaction. The most notable precursors to anarchism in the ancient world were in China and Greece. In China, philosophical anarchism (the discussion on the legitimacy of the state) was delineated by Taoist philosophers Zhuang Zhou and Laozi. Alongside Stoicism, Taoism has been said to have had \"significant anticipations\" of anarchism. & Modern era\n",
      "  Chunk: secularism, particularly in France. Enlightenment challenges to intellectual authority (secular and religious) and the revolutions of the 1790s and 1848 all spurred the ideological development of what...\n",
      "\n",
      "- Title: Anarchism, Section: Start\n",
      "  Chunk: rise of organised hierarchical bodies, scepticism toward authority also rose. Although traces of anarchist thought are found throughout history, modern anarchism emerged from the Enlightenment. During...\n",
      "\n"
     ]
    },
    {
     "name": "stderr",
     "output_type": "stream",
     "text": [
      "The following generation flags are not valid and may be ignored: ['temperature']. Set `TRANSFORMERS_VERBOSITY=info` for more details.\n"
     ]
    },
    {
     "name": "stdout",
     "output_type": "stream",
     "text": [
      "Question: What was the significance of the 1999 Seattle WTO protests?\n",
      "Answer: rioting, property destruction and violent confrontations with the police\n",
      "\n",
      "Source documents:\n",
      "- Title: Anarchism, Section: Modern era\n",
      "  Chunk: anarchism began to take form at this time and influenced anarchism's move from a Eurocentric demographic. This coincided with its failure to gain traction in Northern Europe and its unprecedented heig...\n",
      "\n",
      "- Title: Anarchism, Section: Modern era\n",
      "  Chunk: Other organisational tactics pioneered in this time include affinity groups, security culture and the use of decentralised technologies such as the Internet. A significant event of this period was the...\n",
      "\n",
      "- Title: Alabama, Section: Start\n",
      "  Chunk: Crow laws to disenfranchise and discriminate against African Americans from the late 19th century up until the 1960s.   In the early 20th century, despite the growth of major industries and urban cent...\n",
      "\n",
      "- Title: Alabama, Section: Etymology\n",
      "  Chunk: were plagued with allegations of fraud and misappropriation. Organized insurgent, resistance groups tried to suppress the freedmen and Republicans. Besides the short-lived original Ku Klux Klan, these...\n",
      "\n",
      "Question: Who won the FIFA World Cup in 2022?\n",
      "Answer: unanswerable\n",
      "\n",
      "Source documents:\n",
      "- Title: Albedo, Section: White-sky, black-sky, and blue-sky albedo\n",
      "  Chunk: to about . In contrast, if the entire Earth was covered by water – a so-called ocean planet – the average temperature on the planet would rise to almost .  In 2021, scientists reported that Earth dimm...\n",
      "\n",
      "- Title: Alabama, Section: ABC\n",
      "  Chunk: The Talladega Superspeedway motorsports complex hosts a series of NASCAR events. It has a seating capacity of 143,000 and is the thirteenth largest stadium in the world and sixth largest stadium in Am...\n",
      "\n",
      "- Title: Achilles, Section: Music\n",
      "  Chunk: 1733) is a ballad opera, written by John Gay, parodied by Thomas Arne as Achilles in petticoats in 1773.  Achille in Sciro is a libretto by Metastasio, composed by Domenico Sarro for the inauguration ...\n",
      "\n",
      "- Title: Alabama, Section: Etymology\n",
      "  Chunk: the Wetumpka crater, the site of \"Alabama's greatest natural disaster\". A -wide meteorite hit the area about 80 million years ago. The hills just east of downtown Wetumpka showcase the eroded remains ...\n",
      "\n"
     ]
    }
   ],
   "source": [
    "from openpyxl import Workbook\n",
    "\n",
    "sample_questions = [\n",
    "    \"What is anarchism?\",\n",
    "    \"What are the criticisms of anarchism?\",\n",
    "    \"What was Abraham Lincoln’s Native American policy?\",\n",
    "    \"What are the natural wonders in Alabama?\",\n",
    "    \"Who discovered black holes?\",\n",
    "    \"How has anarchism evolved in the modern era?\",\n",
    "    \"What was the significance of the 1999 Seattle WTO protests?\",\n",
    "    \"Who won the FIFA World Cup in 2022?\"\n",
    "]\n",
    "\n",
    "wb = Workbook()\n",
    "ws = wb.active\n",
    "ws.append([\"Question\", \"Answer\"])\n",
    "\n",
    "for q in sample_questions:\n",
    "    result = ask_question(q)\n",
    "    ws.append([q, result[\"result\"]])\n",
    "\n",
    "wb.save(\"rag_chatbot_output.xlsx\")"
   ]
  }
 ],
 "metadata": {
  "kernelspec": {
   "display_name": "Python 3 (ipykernel)",
   "language": "python",
   "name": "python3"
  },
  "language_info": {
   "codemirror_mode": {
    "name": "ipython",
    "version": 3
   },
   "file_extension": ".py",
   "mimetype": "text/x-python",
   "name": "python",
   "nbconvert_exporter": "python",
   "pygments_lexer": "ipython3",
   "version": "3.9.0"
  }
 },
 "nbformat": 4,
 "nbformat_minor": 5
}
